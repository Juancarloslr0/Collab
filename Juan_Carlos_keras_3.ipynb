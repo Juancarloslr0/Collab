{
  "cells": [
    {
      "cell_type": "code",
      "execution_count": null,
      "metadata": {
        "id": "vYX_Y8tzqltQ"
      },
      "outputs": [],
      "source": [
        "#!pip install tensorflow\n",
        "#!pip install --upgrade keras"
      ]
    },
    {
      "cell_type": "code",
      "execution_count": null,
      "metadata": {
        "id": "F_WGdoL_qltT"
      },
      "outputs": [],
      "source": [
        "# Vamos a utilizar Keras 3, que permite trabajar con TensorFlow 2.0, pytorch y jax.\n",
        "# Mediante una variable de entorno fijamos el backend de tensorflow\n",
        "import keras\n",
        "import os\n",
        "os.environ[\"KERAS_BACKEND\"] = \"tensorflow\""
      ]
    },
    {
      "cell_type": "code",
      "execution_count": null,
      "metadata": {
        "id": "mhVTUv2iqltV",
        "outputId": "26b820da-1dcc-4205-9c49-49a90ce4f136"
      },
      "outputs": [
        {
          "name": "stderr",
          "output_type": "stream",
          "text": [
            "/Users/mmartin/opt/anaconda3/envs/keras_3/lib/python3.9/site-packages/scipy/__init__.py:146: UserWarning: A NumPy version >=1.16.5 and <1.23.0 is required for this version of SciPy (detected version 1.26.4\n",
            "  warnings.warn(f\"A NumPy version >={np_minversion} and <{np_maxversion}\"\n"
          ]
        }
      ],
      "source": [
        "import tensorflow as tf\n",
        "import pandas as pd\n",
        "import keras\n",
        "from keras import layers\n",
        "from sklearn.cluster import KMeans\n",
        "from sklearn.decomposition import PCA\n",
        "from sklearn.preprocessing import StandardScaler\n",
        "from sklearn.model_selection import train_test_split\n",
        "from sklearn.ensemble import RandomForestClassifier\n",
        "from sklearn.ensemble import GradientBoostingClassifier\n",
        "from sklearn.feature_selection import SelectPercentile\n",
        "from sklearn.feature_selection import mutual_info_classif\n",
        "from sklearn.model_selection import cross_val_score\n",
        "from sklearn.preprocessing import OneHotEncoder"
      ]
    },
    {
      "cell_type": "code",
      "execution_count": null,
      "metadata": {
        "id": "pzfOMySYqltY"
      },
      "outputs": [],
      "source": [
        "# Load data set.\n",
        "URL = \"https://drive.google.com/uc?export=download&id=15WrwH8HrIP5PJXIcSI-cYw5iY0u3BUof\"\n",
        "adult_income = pd.read_csv(URL)"
      ]
    },
    {
      "cell_type": "code",
      "execution_count": null,
      "metadata": {
        "id": "N46t7qtpqltZ"
      },
      "outputs": [],
      "source": [
        "# Separamos en entrenamiento y en test\n",
        "adult_train, adult_test = train_test_split(adult_income, test_size=0.3, random_state=42)"
      ]
    },
    {
      "cell_type": "code",
      "execution_count": null,
      "metadata": {
        "id": "gmw46y3Qqltc",
        "outputId": "15bb1469-bac4-4909-e3f7-7c9ec13fed51"
      },
      "outputs": [
        {
          "data": {
            "text/plain": [
              "False    17265\n",
              "True      5527\n",
              "Name: income, dtype: int64"
            ]
          },
          "execution_count": 5,
          "metadata": {},
          "output_type": "execute_result"
        }
      ],
      "source": [
        "# separamos x e y\n",
        "X_train = adult_train.drop('income', axis=1)\n",
        "y_train = adult_train['income'].dropna()\n",
        "# transformamos y train en true y false.\n",
        "y_train_coded = y_train == ' >50K'\n",
        "y_train_coded.value_counts()"
      ]
    },
    {
      "cell_type": "code",
      "execution_count": null,
      "metadata": {
        "id": "Mrm4DrKYqlte"
      },
      "outputs": [],
      "source": [
        "# separamos variables numéricas de categóricas\n",
        "X_train_numerical = X_train.select_dtypes(include='number')\n",
        "X_train_categorical = X_train.select_dtypes(exclude='number')\n",
        "\n"
      ]
    },
    {
      "cell_type": "code",
      "execution_count": null,
      "metadata": {
        "id": "B6yhjDteqltg",
        "outputId": "a0eaf693-53dd-4d34-b052-d83dd91a5da4"
      },
      "outputs": [
        {
          "data": {
            "text/plain": [
              "(22792, 108)"
            ]
          },
          "execution_count": 7,
          "metadata": {},
          "output_type": "execute_result"
        }
      ],
      "source": [
        "# convertimos categoricas an one-hot y concatemanos todas las variables\n",
        "import numpy as np\n",
        "import numpy as np\n",
        "oEncoder = OneHotEncoder(handle_unknown='ignore', sparse=False)\n",
        "oEncoder.fit(X_train_categorical, y_train_coded)\n",
        "X_train_encode_cat = oEncoder.transform(X_train_categorical)\n",
        "X_train_encode = np.concatenate((X_train_numerical, X_train_encode_cat), axis=1)\n",
        "X_train_encode.shape"
      ]
    },
    {
      "cell_type": "code",
      "execution_count": null,
      "metadata": {
        "id": "15L1-QV-qltj"
      },
      "outputs": [],
      "source": [
        "# repetimos todo el proceso con test\n",
        "X_test = adult_test.drop('income', axis=1)\n",
        "y_test = adult_test['income'].dropna()\n",
        "y_test_coded = y_test == ' >50K'\n",
        "X_test_numerical = X_test.select_dtypes(include='number')\n",
        "X_test_categorical = X_test.select_dtypes(exclude='number')\n",
        "\n",
        "X_test_encode_cat = oEncoder.transform(X_test_categorical)\n",
        "X_test_encode = np.concatenate((X_test_numerical, X_test_encode_cat), axis=1)\n",
        "X_test_encode.shape\n",
        "\n",
        "y_test_coded = y_test == ' >50K'"
      ]
    },
    {
      "cell_type": "code",
      "execution_count": null,
      "metadata": {
        "id": "OGtlNndpqltk"
      },
      "outputs": [],
      "source": [
        "#Scale all features with StandarScale\n",
        "scaler = StandardScaler(with_mean=False)\n",
        "X_scaled = scaler.fit_transform(X_train_encode)\n",
        "X_scaled_test = scaler.transform(X_test_encode)"
      ]
    },
    {
      "cell_type": "code",
      "execution_count": null,
      "metadata": {
        "id": "atY3G0c5qltm",
        "outputId": "de1a4bdd-75fb-40f3-a7de-5bf16b83cfab"
      },
      "outputs": [
        {
          "name": "stderr",
          "output_type": "stream",
          "text": [
            "/Users/mmartin/opt/anaconda3/envs/keras_3/lib/python3.9/site-packages/keras/src/layers/core/dense.py:87: UserWarning: Do not pass an `input_shape`/`input_dim` argument to a layer. When using Sequential models, prefer using an `Input(shape)` object as the first layer in the model instead.\n",
            "  super().__init__(activity_regularizer=activity_regularizer, **kwargs)\n"
          ]
        }
      ],
      "source": [
        "# Creamos nuestra red neuronal densa mediante clases.\n",
        "# tambien se pueden crear mediante un enfoque funcional.\n",
        "\n",
        "class NeuralNetwork(keras.Model):\n",
        "    def __init__(self, input_shape, **kwargs):\n",
        "        # creamos las capas\n",
        "        super(NeuralNetwork, self).__init__(**kwargs)\n",
        "        self.layer1 = layers.Dense(256, activation='relu', input_shape=(input_shape,))\n",
        "        self.layer2 = layers.Dense(128, activation='relu')\n",
        "        self.layer3 = layers.Dense(64, activation='relu')\n",
        "        self.layer4 = layers.Dense(1, activation='sigmoid')\n",
        "\n",
        "    def call(self, inputs):\n",
        "        # conectamos las capas\n",
        "        x = self.layer1(inputs)\n",
        "        x = self.layer2(x)\n",
        "        x = self.layer3(x)\n",
        "        out = self.layer4(x)\n",
        "        return out\n",
        "\n",
        "# Creamos nuestra red y compilamos: decimos que optimizador, que función de pérdida\n",
        "# y que métricas vamos a utilizar\n",
        "model = NeuralNetwork(X_scaled.shape[1])\n",
        "model.compile(optimizer = 'Adam', loss=\"binary_crossentropy\", metrics=[\"accuracy\"])"
      ]
    },
    {
      "cell_type": "code",
      "execution_count": null,
      "metadata": {
        "id": "xgTuccgvqltn",
        "outputId": "adad3093-05b7-48ad-cae2-2fa51a777a7a"
      },
      "outputs": [
        {
          "name": "stdout",
          "output_type": "stream",
          "text": [
            "Epoch 1/50\n",
            "\u001b[1m713/713\u001b[0m \u001b[32m━━━━━━━━━━━━━━━━━━━━\u001b[0m\u001b[37m\u001b[0m \u001b[1m8s\u001b[0m 10ms/step - accuracy: 0.8162 - loss: 0.3898 - val_accuracy: 0.8527 - val_loss: 0.3286\n",
            "Epoch 2/50\n",
            "\u001b[1m713/713\u001b[0m \u001b[32m━━━━━━━━━━━━━━━━━━━━\u001b[0m\u001b[37m\u001b[0m \u001b[1m7s\u001b[0m 10ms/step - accuracy: 0.8472 - loss: 0.3269 - val_accuracy: 0.8512 - val_loss: 0.3230\n",
            "Epoch 3/50\n",
            "\u001b[1m713/713\u001b[0m \u001b[32m━━━━━━━━━━━━━━━━━━━━\u001b[0m\u001b[37m\u001b[0m \u001b[1m7s\u001b[0m 10ms/step - accuracy: 0.8529 - loss: 0.3088 - val_accuracy: 0.8478 - val_loss: 0.3257\n",
            "Epoch 4/50\n",
            "\u001b[1m713/713\u001b[0m \u001b[32m━━━━━━━━━━━━━━━━━━━━\u001b[0m\u001b[37m\u001b[0m \u001b[1m7s\u001b[0m 10ms/step - accuracy: 0.8572 - loss: 0.3051 - val_accuracy: 0.8475 - val_loss: 0.3262\n",
            "Epoch 5/50\n",
            "\u001b[1m713/713\u001b[0m \u001b[32m━━━━━━━━━━━━━━━━━━━━\u001b[0m\u001b[37m\u001b[0m \u001b[1m7s\u001b[0m 10ms/step - accuracy: 0.8555 - loss: 0.3085 - val_accuracy: 0.8532 - val_loss: 0.3217\n",
            "Epoch 6/50\n",
            "\u001b[1m713/713\u001b[0m \u001b[32m━━━━━━━━━━━━━━━━━━━━\u001b[0m\u001b[37m\u001b[0m \u001b[1m7s\u001b[0m 10ms/step - accuracy: 0.8578 - loss: 0.3008 - val_accuracy: 0.8535 - val_loss: 0.3298\n",
            "Epoch 7/50\n",
            "\u001b[1m713/713\u001b[0m \u001b[32m━━━━━━━━━━━━━━━━━━━━\u001b[0m\u001b[37m\u001b[0m \u001b[1m7s\u001b[0m 10ms/step - accuracy: 0.8644 - loss: 0.2913 - val_accuracy: 0.8520 - val_loss: 0.3278\n",
            "Epoch 8/50\n",
            "\u001b[1m713/713\u001b[0m \u001b[32m━━━━━━━━━━━━━━━━━━━━\u001b[0m\u001b[37m\u001b[0m \u001b[1m7s\u001b[0m 10ms/step - accuracy: 0.8669 - loss: 0.2778 - val_accuracy: 0.8507 - val_loss: 0.3364\n",
            "Epoch 9/50\n",
            "\u001b[1m713/713\u001b[0m \u001b[32m━━━━━━━━━━━━━━━━━━━━\u001b[0m\u001b[37m\u001b[0m \u001b[1m7s\u001b[0m 10ms/step - accuracy: 0.8659 - loss: 0.2791 - val_accuracy: 0.8468 - val_loss: 0.3453\n",
            "Epoch 10/50\n",
            "\u001b[1m713/713\u001b[0m \u001b[32m━━━━━━━━━━━━━━━━━━━━\u001b[0m\u001b[37m\u001b[0m \u001b[1m7s\u001b[0m 10ms/step - accuracy: 0.8754 - loss: 0.2693 - val_accuracy: 0.8473 - val_loss: 0.3613\n",
            "Epoch 11/50\n",
            "\u001b[1m713/713\u001b[0m \u001b[32m━━━━━━━━━━━━━━━━━━━━\u001b[0m\u001b[37m\u001b[0m \u001b[1m7s\u001b[0m 10ms/step - accuracy: 0.8793 - loss: 0.2576 - val_accuracy: 0.8479 - val_loss: 0.3582\n",
            "Epoch 12/50\n",
            "\u001b[1m713/713\u001b[0m \u001b[32m━━━━━━━━━━━━━━━━━━━━\u001b[0m\u001b[37m\u001b[0m \u001b[1m7s\u001b[0m 10ms/step - accuracy: 0.8776 - loss: 0.2581 - val_accuracy: 0.8509 - val_loss: 0.3787\n",
            "Epoch 13/50\n",
            "\u001b[1m713/713\u001b[0m \u001b[32m━━━━━━━━━━━━━━━━━━━━\u001b[0m\u001b[37m\u001b[0m \u001b[1m7s\u001b[0m 10ms/step - accuracy: 0.8854 - loss: 0.2473 - val_accuracy: 0.8511 - val_loss: 0.3903\n",
            "Epoch 14/50\n",
            "\u001b[1m713/713\u001b[0m \u001b[32m━━━━━━━━━━━━━━━━━━━━\u001b[0m\u001b[37m\u001b[0m \u001b[1m7s\u001b[0m 10ms/step - accuracy: 0.8841 - loss: 0.2435 - val_accuracy: 0.8448 - val_loss: 0.3906\n",
            "Epoch 15/50\n",
            "\u001b[1m713/713\u001b[0m \u001b[32m━━━━━━━━━━━━━━━━━━━━\u001b[0m\u001b[37m\u001b[0m \u001b[1m7s\u001b[0m 10ms/step - accuracy: 0.8863 - loss: 0.2380 - val_accuracy: 0.8464 - val_loss: 0.4286\n",
            "Epoch 16/50\n",
            "\u001b[1m713/713\u001b[0m \u001b[32m━━━━━━━━━━━━━━━━━━━━\u001b[0m\u001b[37m\u001b[0m \u001b[1m7s\u001b[0m 10ms/step - accuracy: 0.8831 - loss: 0.2410 - val_accuracy: 0.8408 - val_loss: 0.4127\n",
            "Epoch 17/50\n",
            "\u001b[1m713/713\u001b[0m \u001b[32m━━━━━━━━━━━━━━━━━━━━\u001b[0m\u001b[37m\u001b[0m \u001b[1m7s\u001b[0m 10ms/step - accuracy: 0.8901 - loss: 0.2269 - val_accuracy: 0.8443 - val_loss: 0.4607\n",
            "Epoch 18/50\n",
            "\u001b[1m713/713\u001b[0m \u001b[32m━━━━━━━━━━━━━━━━━━━━\u001b[0m\u001b[37m\u001b[0m \u001b[1m7s\u001b[0m 10ms/step - accuracy: 0.8915 - loss: 0.2248 - val_accuracy: 0.8407 - val_loss: 0.4389\n",
            "Epoch 19/50\n",
            "\u001b[1m713/713\u001b[0m \u001b[32m━━━━━━━━━━━━━━━━━━━━\u001b[0m\u001b[37m\u001b[0m \u001b[1m7s\u001b[0m 10ms/step - accuracy: 0.8942 - loss: 0.2234 - val_accuracy: 0.8418 - val_loss: 0.4876\n",
            "Epoch 20/50\n",
            "\u001b[1m713/713\u001b[0m \u001b[32m━━━━━━━━━━━━━━━━━━━━\u001b[0m\u001b[37m\u001b[0m \u001b[1m7s\u001b[0m 10ms/step - accuracy: 0.8949 - loss: 0.2157 - val_accuracy: 0.8425 - val_loss: 0.5080\n",
            "Epoch 21/50\n",
            "\u001b[1m713/713\u001b[0m \u001b[32m━━━━━━━━━━━━━━━━━━━━\u001b[0m\u001b[37m\u001b[0m \u001b[1m7s\u001b[0m 10ms/step - accuracy: 0.8994 - loss: 0.2084 - val_accuracy: 0.8473 - val_loss: 0.5329\n",
            "Epoch 22/50\n",
            "\u001b[1m713/713\u001b[0m \u001b[32m━━━━━━━━━━━━━━━━━━━━\u001b[0m\u001b[37m\u001b[0m \u001b[1m7s\u001b[0m 10ms/step - accuracy: 0.8991 - loss: 0.2072 - val_accuracy: 0.8406 - val_loss: 0.5026\n",
            "Epoch 23/50\n",
            "\u001b[1m713/713\u001b[0m \u001b[32m━━━━━━━━━━━━━━━━━━━━\u001b[0m\u001b[37m\u001b[0m \u001b[1m8s\u001b[0m 11ms/step - accuracy: 0.9036 - loss: 0.2011 - val_accuracy: 0.8449 - val_loss: 0.5588\n",
            "Epoch 24/50\n",
            "\u001b[1m713/713\u001b[0m \u001b[32m━━━━━━━━━━━━━━━━━━━━\u001b[0m\u001b[37m\u001b[0m \u001b[1m7s\u001b[0m 10ms/step - accuracy: 0.8992 - loss: 0.2007 - val_accuracy: 0.8381 - val_loss: 0.6002\n",
            "Epoch 25/50\n",
            "\u001b[1m713/713\u001b[0m \u001b[32m━━━━━━━━━━━━━━━━━━━━\u001b[0m\u001b[37m\u001b[0m \u001b[1m7s\u001b[0m 10ms/step - accuracy: 0.9087 - loss: 0.1977 - val_accuracy: 0.8394 - val_loss: 0.6326\n",
            "Epoch 26/50\n",
            "\u001b[1m713/713\u001b[0m \u001b[32m━━━━━━━━━━━━━━━━━━━━\u001b[0m\u001b[37m\u001b[0m \u001b[1m8s\u001b[0m 10ms/step - accuracy: 0.9046 - loss: 0.1957 - val_accuracy: 0.8400 - val_loss: 0.6187\n",
            "Epoch 27/50\n",
            "\u001b[1m713/713\u001b[0m \u001b[32m━━━━━━━━━━━━━━━━━━━━\u001b[0m\u001b[37m\u001b[0m \u001b[1m8s\u001b[0m 11ms/step - accuracy: 0.9141 - loss: 0.1835 - val_accuracy: 0.8365 - val_loss: 0.6683\n",
            "Epoch 28/50\n",
            "\u001b[1m713/713\u001b[0m \u001b[32m━━━━━━━━━━━━━━━━━━━━\u001b[0m\u001b[37m\u001b[0m \u001b[1m8s\u001b[0m 11ms/step - accuracy: 0.9118 - loss: 0.1857 - val_accuracy: 0.8461 - val_loss: 0.6652\n",
            "Epoch 29/50\n",
            "\u001b[1m713/713\u001b[0m \u001b[32m━━━━━━━━━━━━━━━━━━━━\u001b[0m\u001b[37m\u001b[0m \u001b[1m7s\u001b[0m 10ms/step - accuracy: 0.9102 - loss: 0.1888 - val_accuracy: 0.8429 - val_loss: 0.6581\n",
            "Epoch 30/50\n",
            "\u001b[1m713/713\u001b[0m \u001b[32m━━━━━━━━━━━━━━━━━━━━\u001b[0m\u001b[37m\u001b[0m \u001b[1m7s\u001b[0m 10ms/step - accuracy: 0.9117 - loss: 0.1824 - val_accuracy: 0.8360 - val_loss: 0.7026\n",
            "Epoch 31/50\n",
            "\u001b[1m713/713\u001b[0m \u001b[32m━━━━━━━━━━━━━━━━━━━━\u001b[0m\u001b[37m\u001b[0m \u001b[1m8s\u001b[0m 11ms/step - accuracy: 0.9189 - loss: 0.1740 - val_accuracy: 0.8410 - val_loss: 0.7032\n",
            "Epoch 32/50\n",
            "\u001b[1m713/713\u001b[0m \u001b[32m━━━━━━━━━━━━━━━━━━━━\u001b[0m\u001b[37m\u001b[0m \u001b[1m7s\u001b[0m 10ms/step - accuracy: 0.9140 - loss: 0.1794 - val_accuracy: 0.8319 - val_loss: 0.6642\n",
            "Epoch 33/50\n",
            "\u001b[1m713/713\u001b[0m \u001b[32m━━━━━━━━━━━━━━━━━━━━\u001b[0m\u001b[37m\u001b[0m \u001b[1m8s\u001b[0m 11ms/step - accuracy: 0.9146 - loss: 0.1739 - val_accuracy: 0.8392 - val_loss: 0.7272\n",
            "Epoch 34/50\n",
            "\u001b[1m713/713\u001b[0m \u001b[32m━━━━━━━━━━━━━━━━━━━━\u001b[0m\u001b[37m\u001b[0m \u001b[1m8s\u001b[0m 11ms/step - accuracy: 0.9197 - loss: 0.1667 - val_accuracy: 0.8370 - val_loss: 0.8043\n",
            "Epoch 35/50\n",
            "\u001b[1m713/713\u001b[0m \u001b[32m━━━━━━━━━━━━━━━━━━━━\u001b[0m\u001b[37m\u001b[0m \u001b[1m7s\u001b[0m 10ms/step - accuracy: 0.9226 - loss: 0.1634 - val_accuracy: 0.8409 - val_loss: 0.7828\n",
            "Epoch 36/50\n",
            "\u001b[1m713/713\u001b[0m \u001b[32m━━━━━━━━━━━━━━━━━━━━\u001b[0m\u001b[37m\u001b[0m \u001b[1m8s\u001b[0m 11ms/step - accuracy: 0.9203 - loss: 0.1622 - val_accuracy: 0.8308 - val_loss: 0.8466\n",
            "Epoch 37/50\n",
            "\u001b[1m713/713\u001b[0m \u001b[32m━━━━━━━━━━━━━━━━━━━━\u001b[0m\u001b[37m\u001b[0m \u001b[1m8s\u001b[0m 11ms/step - accuracy: 0.9177 - loss: 0.1720 - val_accuracy: 0.8313 - val_loss: 0.7655\n",
            "Epoch 38/50\n",
            "\u001b[1m713/713\u001b[0m \u001b[32m━━━━━━━━━━━━━━━━━━━━\u001b[0m\u001b[37m\u001b[0m \u001b[1m8s\u001b[0m 11ms/step - accuracy: 0.9228 - loss: 0.1627 - val_accuracy: 0.8387 - val_loss: 0.8706\n",
            "Epoch 39/50\n",
            "\u001b[1m713/713\u001b[0m \u001b[32m━━━━━━━━━━━━━━━━━━━━\u001b[0m\u001b[37m\u001b[0m \u001b[1m8s\u001b[0m 11ms/step - accuracy: 0.9232 - loss: 0.1640 - val_accuracy: 0.8386 - val_loss: 0.8681\n",
            "Epoch 40/50\n",
            "\u001b[1m713/713\u001b[0m \u001b[32m━━━━━━━━━━━━━━━━━━━━\u001b[0m\u001b[37m\u001b[0m \u001b[1m8s\u001b[0m 11ms/step - accuracy: 0.9253 - loss: 0.1628 - val_accuracy: 0.8359 - val_loss: 0.8426\n",
            "Epoch 41/50\n",
            "\u001b[1m713/713\u001b[0m \u001b[32m━━━━━━━━━━━━━━━━━━━━\u001b[0m\u001b[37m\u001b[0m \u001b[1m8s\u001b[0m 11ms/step - accuracy: 0.9229 - loss: 0.1589 - val_accuracy: 0.8346 - val_loss: 0.8638\n",
            "Epoch 42/50\n",
            "\u001b[1m713/713\u001b[0m \u001b[32m━━━━━━━━━━━━━━━━━━━━\u001b[0m\u001b[37m\u001b[0m \u001b[1m8s\u001b[0m 11ms/step - accuracy: 0.9232 - loss: 0.1582 - val_accuracy: 0.8318 - val_loss: 0.8038\n",
            "Epoch 43/50\n",
            "\u001b[1m713/713\u001b[0m \u001b[32m━━━━━━━━━━━━━━━━━━━━\u001b[0m\u001b[37m\u001b[0m \u001b[1m8s\u001b[0m 11ms/step - accuracy: 0.9257 - loss: 0.1532 - val_accuracy: 0.8288 - val_loss: 0.8473\n",
            "Epoch 44/50\n",
            "\u001b[1m713/713\u001b[0m \u001b[32m━━━━━━━━━━━━━━━━━━━━\u001b[0m\u001b[37m\u001b[0m \u001b[1m8s\u001b[0m 11ms/step - accuracy: 0.9260 - loss: 0.1532 - val_accuracy: 0.8369 - val_loss: 0.9075\n",
            "Epoch 45/50\n",
            "\u001b[1m713/713\u001b[0m \u001b[32m━━━━━━━━━━━━━━━━━━━━\u001b[0m\u001b[37m\u001b[0m \u001b[1m8s\u001b[0m 11ms/step - accuracy: 0.9269 - loss: 0.1556 - val_accuracy: 0.8272 - val_loss: 0.8591\n",
            "Epoch 46/50\n",
            "\u001b[1m713/713\u001b[0m \u001b[32m━━━━━━━━━━━━━━━━━━━━\u001b[0m\u001b[37m\u001b[0m \u001b[1m8s\u001b[0m 11ms/step - accuracy: 0.9297 - loss: 0.1445 - val_accuracy: 0.8359 - val_loss: 0.8973\n",
            "Epoch 47/50\n",
            "\u001b[1m713/713\u001b[0m \u001b[32m━━━━━━━━━━━━━━━━━━━━\u001b[0m\u001b[37m\u001b[0m \u001b[1m8s\u001b[0m 11ms/step - accuracy: 0.9247 - loss: 0.1524 - val_accuracy: 0.8350 - val_loss: 0.9371\n",
            "Epoch 48/50\n",
            "\u001b[1m713/713\u001b[0m \u001b[32m━━━━━━━━━━━━━━━━━━━━\u001b[0m\u001b[37m\u001b[0m \u001b[1m8s\u001b[0m 11ms/step - accuracy: 0.9266 - loss: 0.1533 - val_accuracy: 0.8359 - val_loss: 0.9092\n",
            "Epoch 49/50\n",
            "\u001b[1m713/713\u001b[0m \u001b[32m━━━━━━━━━━━━━━━━━━━━\u001b[0m\u001b[37m\u001b[0m \u001b[1m7s\u001b[0m 10ms/step - accuracy: 0.9306 - loss: 0.1436 - val_accuracy: 0.8330 - val_loss: 0.9639\n",
            "Epoch 50/50\n",
            "\u001b[1m713/713\u001b[0m \u001b[32m━━━━━━━━━━━━━━━━━━━━\u001b[0m\u001b[37m\u001b[0m \u001b[1m7s\u001b[0m 10ms/step - accuracy: 0.9318 - loss: 0.1416 - val_accuracy: 0.8296 - val_loss: 1.0031\n"
          ]
        },
        {
          "data": {
            "text/plain": [
              "<keras.src.callbacks.history.History at 0x3833a41c0>"
            ]
          },
          "execution_count": 70,
          "metadata": {},
          "output_type": "execute_result"
        }
      ],
      "source": [
        "# entrenamos.\n",
        "# realmente deberíamos tener un set de validación a parte, y solo utilzar el de test\n",
        "# para ver el resultado final. Por simplicidad, lo hemos reducido a dos sets.\n",
        "model.fit(x=X_scaled, y=y_train_coded, epochs=50, validation_data=(X_scaled_test, y_test_coded))"
      ]
    },
    {
      "cell_type": "code",
      "execution_count": null,
      "metadata": {
        "id": "PuMvam9Lqltp",
        "outputId": "c517006d-c685-4a06-d22b-a4b59c919762"
      },
      "outputs": [
        {
          "name": "stdout",
          "output_type": "stream",
          "text": [
            "tf.Tensor([[0.00049766]], shape=(1, 1), dtype=float32)\n",
            "tf.Tensor([[0.00049766]], shape=(1, 1), dtype=float32)\n"
          ]
        }
      ],
      "source": [
        "# Hacemos inferencia con un dato de test!!\n",
        "# IMPORTANTE: como el modelo espera un tensor de dos dimensiones,\n",
        "# tenemos que pasarle el ejemplo en dos dimensiones\n",
        "# podemos hacer dos cosas:\n",
        "# un reshape\n",
        "print(model(X_scaled_test[0].reshape(1, -1)))\n",
        "# o seleccionar mediante slicing\n",
        "print(model(X_scaled_test[0:1]))\n",
        "\n",
        "# Es un enfoque muy sencillo.\n",
        "# existen maneras más eficientes de procesar y transformar los datos de entrada y de hacer inferencia."
      ]
    }
  ],
  "metadata": {
    "kernelspec": {
      "display_name": "keras_3",
      "language": "python",
      "name": "python3"
    },
    "language_info": {
      "codemirror_mode": {
        "name": "ipython",
        "version": 3
      },
      "file_extension": ".py",
      "mimetype": "text/x-python",
      "name": "python",
      "nbconvert_exporter": "python",
      "pygments_lexer": "ipython3",
      "version": "3.9.12"
    },
    "colab": {
      "provenance": []
    }
  },
  "nbformat": 4,
  "nbformat_minor": 0
}